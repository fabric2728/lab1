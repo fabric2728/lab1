{
  "cells": [
    {
      "cell_type": "markdown",
      "metadata": {
        "id": "M-DGa20PaHnu"
      },
      "source": [
        "#Задача 1\n",
        "Написать функцию на вход которой подается строка, состоящая из латинских букв.\n",
        "Функция должна вернуть количество гласных букв (a, e, i, o, u) в этой строке. Написать тесты для кода"
      ]
    },
    {
      "cell_type": "code",
      "execution_count": null,
      "metadata": {
        "id": "XvX8X_JJ6PCb"
      },
      "outputs": [],
      "source": [
        "def count_vowels(string):\n",
        "    vowels = \"aeiou\"\n",
        "    count = 0\n",
        "    for char in string.lower():\n",
        "        if char in vowels:\n",
        "            count += 1\n",
        "    return count\n",
        "\n",
        "def tests():\n",
        "    assert count_vowels(\"HELLO WORLD\") == 3\n",
        "    assert count_vowels(\"Malenia, Blade of Miquella\") == 11\n",
        "    assert count_vowels(\"Python Programming\") == 4\n",
        "    assert count_vowels(\"A quick brown fox jumps over the lazy dog\") == 11\n",
        "    assert count_vowels(\"\") == 0\n",
        "    assert count_vowels(\"XYZ\") == 0\n",
        "    print(\"тесты пройдены\")\n",
        "\n",
        "tests()\n"
      ]
    },
    {
      "cell_type": "markdown",
      "metadata": {},
      "source": [
        "тесты пройдены"
      ]
    },
    {
      "cell_type": "markdown",
      "metadata": {
        "id": "t2ClV_Y0bbr6"
      },
      "source": [
        "# Задача 2\n",
        "Написать функцию на вход, которой подается строка. Функция должна вернуть true, если\n",
        "каждый символ в строке встречается только 1 раз, иначе должна вернуть false. Написать тесты для кода"
      ]
    },
    {
      "cell_type": "code",
      "execution_count": null,
      "metadata": {
        "id": "FppbECao6VIz"
      },
      "outputs": [],
      "source": [
        "def has_unique_characters(string):\n",
        "    return len(set(string)) == len(string)\n",
        "\n",
        "def tests():\n",
        "    assert has_unique_characters(\"abcdefg\") == True\n",
        "    assert has_unique_characters(\"hello\") == False\n",
        "    assert has_unique_characters(\"world\") == True\n",
        "    assert has_unique_characters(\"aabbcc\") == False\n",
        "    assert has_unique_characters(\"\") == True\n",
        "    assert has_unique_characters(\"1234567890\") == True\n",
        "    assert has_unique_characters(\"!@#$%^&*()\") == True\n",
        "    print(\"тесты пройдены\")\n",
        "\n",
        "tests()\n"
      ]
    },
    {
      "cell_type": "markdown",
      "metadata": {},
      "source": [
        "тесты пройдены"
      ]
    },
    {
      "cell_type": "markdown",
      "metadata": {
        "id": "udRiIK1cdt6E"
      },
      "source": [
        "# Задача 3\n",
        "Написать функцию, которая принимает положительное число и возвращает количество\n",
        "бит равных 1 в этом числе. Написать тесты для кода"
      ]
    },
    {
      "cell_type": "code",
      "execution_count": null,
      "metadata": {
        "id": "6tkfDJRz6dp_"
      },
      "outputs": [],
      "source": [
        "def count_bit(n):\n",
        "    return bin(n).count('1')\n",
        "\n",
        "def test():\n",
        "    assert count_bit(0) == 0\n",
        "    assert count_bit(1) == 1\n",
        "    assert count_bit(7) == 3\n",
        "    assert count_bit(10) == 2\n",
        "    assert count_bit(520) == 2\n",
        "    assert count_bit(1022) == 9\n",
        "    assert count_bit(2024) == 7\n",
        "    print(\"Тесты пройдены\")\n",
        "\n",
        "test()"
      ]
    },
    {
      "cell_type": "markdown",
      "metadata": {
        "id": "26dDUz-Ae17N"
      },
      "source": [
        "# Задача 4\n",
        "Написать функцию, которая принимает положительное число. Функция должна вернуть то,\n",
        "сколько раз необходимо перемножать цифры числа или результат перемножения, чтобы\n",
        "получилось число состоящее из одной цифры.\n",
        "Например, для входного числа:\n",
        "· 39 функция должна вернуть 3, так как 3*9=27 => 2*7=14 => 1*4=4\n",
        "· 4 функция должна вернуть 0, так как число уже состоит из одной цифры\n",
        "· 999 функция должна вернуть 4, так как 9*9*9=729 => 7*2*9=126 => 1*2*6=12 =>\n",
        "1*2=2. Написать тесты для кода"
      ]
    },
    {
      "cell_type": "code",
      "execution_count": null,
      "metadata": {
        "id": "BH1A_Mgi6i4G"
      },
      "outputs": [],
      "source": [
        "def magic(n):\n",
        "    k = 0\n",
        "    while n >= 10:\n",
        "        res = 1\n",
        "        for i in str(n):\n",
        "            res *= int(i)\n",
        "        n = res\n",
        "        k += 1\n",
        "    return k\n",
        "\n",
        "def test():\n",
        "    assert magic(39) == 3\n",
        "    assert magic(999) == 4\n",
        "    assert magic(565) == 2\n",
        "    assert magic(1234) == 2\n",
        "    assert magic(4) == 0\n",
        "    assert magic(500) == 1\n",
        "    assert magic(77) == 2\n",
        "    assert magic(88) == 2\n",
        "    assert magic(10) == 1\n",
        "    print(\"тесты пройдены\")\n",
        "\n",
        "test()\n"
      ]
    },
    {
      "cell_type": "markdown",
      "metadata": {},
      "source": [
        "тесты пройдены"
      ]
    },
    {
      "cell_type": "markdown",
      "metadata": {
        "id": "0nS-kIa8g8vd"
      },
      "source": [
        "# Задача 5\n",
        "Написать функцию, которая принимает два целочисленных вектора одинаковой длины и\n",
        "возвращает среднеквадратическое отклонение двух векторов. Написать тесты для кода"
      ]
    },
    {
      "cell_type": "code",
      "execution_count": null,
      "metadata": {
        "id": "8iphx4LM6xbx"
      },
      "outputs": [],
      "source": [
        "from math import *\n",
        "\n",
        "def mse(pred, true):\n",
        "    if len(pred) != len(true):\n",
        "        return \"Векторы разной длины\"\n",
        "    res = 0\n",
        "    for i in range(len(pred)):\n",
        "        res += (pred[i] - true[i]) ** 2\n",
        "    return sqrt((res / len(pred)))\n",
        "\n",
        "def test():\n",
        "    assert mse([1, 2, 3], [1, 2]) == \"Векторы разной длины\"\n",
        "    assert mse([3, 4, 5], [1, 2, 3]) == 2.0\n",
        "    assert mse([3, 4, 5, 6], [1, 2, 3, 3]) == 2.29128784747792\n",
        "    assert mse([3, 4, 5, 6, 10], [1, 2, 3, 3, 35]) == 11.366617790706258\n",
        "    print(\"тесты пройдены\")\n",
        "\n",
        "test()"
      ]
    },
    {
      "cell_type": "markdown",
      "metadata": {},
      "source": [
        "тесты пройдены\n"
      ]
    },
    {
      "cell_type": "markdown",
      "metadata": {
        "id": "vpIPKL439zkw"
      },
      "source": [
        "# Задача 6\n",
        "Написать функцию, принимающая целое положительное число. Функция должна вернуть\n",
        "строку вида “(n1**p1)(n2**p2)…(nk**pk)” представляющая разложение числа на простые\n",
        "множители (если pi == 1, то выводить только ni).\n",
        "Например, для числа 86240 функция должна вернуть “(2**5)(5)(7**2)(11)”. Написать тесты для кода"
      ]
    },
    {
      "cell_type": "code",
      "execution_count": null,
      "metadata": {
        "id": "pFebmcZk94Jw"
      },
      "outputs": [],
      "source": [
        "def prime_factors(n):\n",
        "    if n <= 0:\n",
        "        return \"Введите положительное число\"\n",
        "    \n",
        "    factors = {}\n",
        "    divisor = 2\n",
        "\n",
        "    while n > 1:\n",
        "        while n % divisor == 0:\n",
        "            if divisor in factors:\n",
        "                factors[divisor] += 1\n",
        "            else:\n",
        "                factors[divisor] = 1\n",
        "            n //= divisor\n",
        "        divisor += 1\n",
        "\n",
        "    result = \"\"\n",
        "    for prime, power in factors.items():\n",
        "        if power > 1:\n",
        "            result += f\"({prime}**{power})\"\n",
        "        else:\n",
        "            result += f\"({prime})\"\n",
        "    \n",
        "    return result\n",
        "\n",
        "def tests():\n",
        "    assert prime_factors(86240) == \"(2**5)(5)(7**2)(11)\"\n",
        "    assert prime_factors(28) == \"(2**2)(7)\"\n",
        "    assert prime_factors(30) == \"(2)(3)(5)\"\n",
        "    assert prime_factors(1) == \"\"\n",
        "    assert prime_factors(60) == \"(2**2)(3)(5)\"\n",
        "    assert prime_factors(100) == \"(2**2)(5**2)\"\n",
        "    assert prime_factors(97) == \"(97)\"\n",
        "    print(\"тесты пройдены\")\n",
        "\n",
        "tests()\n"
      ]
    },
    {
      "cell_type": "markdown",
      "metadata": {},
      "source": [
        "тесты пройдены"
      ]
    },
    {
      "cell_type": "markdown",
      "metadata": {
        "id": "ps2s0BudX7A2"
      },
      "source": [
        "# Задача 7\n",
        "Написать функцию, принимающая целое число n, задающее количество кубиков. Функция\n",
        "должна определить, можно ли из данного кол-ва кубиков построить пирамиду, то есть\n",
        "можно ли представить число n как 1^2+2^2+3^2+…+k^2. Если можно, то функция должна\n",
        "вернуть k, иначе строку “It is impossible”. Написать тесты для кода"
      ]
    },
    {
      "cell_type": "code",
      "execution_count": null,
      "metadata": {
        "id": "3YPjEXxhX_YT"
      },
      "outputs": [],
      "source": [
        "def pyramid(n):\n",
        "    if n <= 0:\n",
        "        return \"Невозможно\"\n",
        "    \n",
        "    k = 0\n",
        "    total_cubes = 0\n",
        "\n",
        "    while total_cubes < n:\n",
        "        k += 1\n",
        "        total_cubes += k ** 2\n",
        "\n",
        "    return k if total_cubes == n else \"Невозможно\"\n",
        "\n",
        "def tests():\n",
        "    assert pyramid(1) == 1\n",
        "    assert pyramid(5) == \"Невозможно\"\n",
        "    assert pyramid(14) == 3\n",
        "    assert pyramid(30) == \"Невозможно\"\n",
        "    assert pyramid(55) == 5\n",
        "    assert pyramid(0) == \"Невозможно\"\n",
        "    assert pyramid(385) == 7\n",
        "    print(\"тесты пройдены\")\n",
        "\n",
        "tests()\n"
      ]
    },
    {
      "cell_type": "markdown",
      "metadata": {},
      "source": [
        "тесты пройдены"
      ]
    },
    {
      "cell_type": "markdown",
      "metadata": {
        "id": "KeKgmIdAQMEJ"
      },
      "source": [
        "# Задача 8\n",
        "Функция принимает на вход положительное число и определяет является ли оно сбалансированным, т.е. сумма цифр до средних равна сумме цифр после. Средними в случае нечетного числа цифр считать одну цифру, в случае четного - две средних. Написать тесты для кода"
      ]
    },
    {
      "cell_type": "code",
      "execution_count": null,
      "metadata": {
        "id": "gMAAqtqlQrZt"
      },
      "outputs": [],
      "source": [
        "def balance(n):\n",
        "    n_str = str(n)\n",
        "    length = len(n_str)\n",
        "    if length % 2 == 0:\n",
        "        f_h = sum(map(int, n_str[:length//2 - 1]))\n",
        "        l_h = sum(map(int, n_str[length//2 + 1:]))\n",
        "    else:\n",
        "        f_h = sum(map(int, n_str[:length//2]))\n",
        "        l_h = sum(map(int, n_str[length//2 + 1:]))\n",
        "    return f_h == l_h\n",
        "\n",
        "\n",
        "def tests():\n",
        "    assert balance(12321)==True\n",
        "    assert balance(123421)==True\n",
        "    assert balance(123456)==False\n",
        "    print(\"тесты пройдены\")\n",
        "\n",
        "tests()"
      ]
    },
    {
      "cell_type": "markdown",
      "metadata": {},
      "source": [
        "тесты пройдены"
      ]
    }
  ],
  "metadata": {
    "colab": {
      "provenance": []
    },
    "kernelspec": {
      "display_name": "Python 3",
      "name": "python3"
    },
    "language_info": {
      "name": "python"
    }
  },
  "nbformat": 4,
  "nbformat_minor": 0
}
